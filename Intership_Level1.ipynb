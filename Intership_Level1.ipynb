{
 "cells": [
  {
   "cell_type": "code",
   "execution_count": 2,
   "id": "378ed0d8-c959-40d2-81bc-4ac7d8270bdd",
   "metadata": {},
   "outputs": [
    {
     "name": "stdout",
     "output_type": "stream",
     "text": [
      "      Restaurant ID           Restaurant Name  Country Code              City  \\\n",
      "0           6317637          Le Petit Souffle           162       Makati City   \n",
      "1           6304287          Izakaya Kikufuji           162       Makati City   \n",
      "2           6300002    Heat - Edsa Shangri-La           162  Mandaluyong City   \n",
      "3           6318506                      Ooma           162  Mandaluyong City   \n",
      "4           6314302               Sambo Kojin           162  Mandaluyong City   \n",
      "...             ...                       ...           ...               ...   \n",
      "9546        5915730               Naml۱ Gurme           208         ��stanbul   \n",
      "9547        5908749              Ceviz A��ac۱           208         ��stanbul   \n",
      "9548        5915807                     Huqqa           208         ��stanbul   \n",
      "9549        5916112               A���k Kahve           208         ��stanbul   \n",
      "9550        5927402  Walter's Coffee Roastery           208         ��stanbul   \n",
      "\n",
      "                                                Address  \\\n",
      "0     Third Floor, Century City Mall, Kalayaan Avenu...   \n",
      "1     Little Tokyo, 2277 Chino Roces Avenue, Legaspi...   \n",
      "2     Edsa Shangri-La, 1 Garden Way, Ortigas, Mandal...   \n",
      "3     Third Floor, Mega Fashion Hall, SM Megamall, O...   \n",
      "4     Third Floor, Mega Atrium, SM Megamall, Ortigas...   \n",
      "...                                                 ...   \n",
      "9546  Kemanke�� Karamustafa Pa��a Mahallesi, R۱ht۱m ...   \n",
      "9547  Ko��uyolu Mahallesi, Muhittin ��st�_nda�� Cadd...   \n",
      "9548  Kuru�_e��me Mahallesi, Muallim Naci Caddesi, N...   \n",
      "9549  Kuru�_e��me Mahallesi, Muallim Naci Caddesi, N...   \n",
      "9550  Cafea��a Mahallesi, Bademalt۱ Sokak, No 21/B, ...   \n",
      "\n",
      "                                        Locality  \\\n",
      "0      Century City Mall, Poblacion, Makati City   \n",
      "1     Little Tokyo, Legaspi Village, Makati City   \n",
      "2     Edsa Shangri-La, Ortigas, Mandaluyong City   \n",
      "3         SM Megamall, Ortigas, Mandaluyong City   \n",
      "4         SM Megamall, Ortigas, Mandaluyong City   \n",
      "...                                          ...   \n",
      "9546                                    Karak�_y   \n",
      "9547                                   Ko��uyolu   \n",
      "9548                                 Kuru�_e��me   \n",
      "9549                                 Kuru�_e��me   \n",
      "9550                                        Moda   \n",
      "\n",
      "                                       Locality Verbose   Longitude  \\\n",
      "0     Century City Mall, Poblacion, Makati City, Mak...  121.027535   \n",
      "1     Little Tokyo, Legaspi Village, Makati City, Ma...  121.014101   \n",
      "2     Edsa Shangri-La, Ortigas, Mandaluyong City, Ma...  121.056831   \n",
      "3     SM Megamall, Ortigas, Mandaluyong City, Mandal...  121.056475   \n",
      "4     SM Megamall, Ortigas, Mandaluyong City, Mandal...  121.057508   \n",
      "...                                                 ...         ...   \n",
      "9546                                Karak�_y, ��stanbul   28.977392   \n",
      "9547                               Ko��uyolu, ��stanbul   29.041297   \n",
      "9548                             Kuru�_e��me, ��stanbul   29.034640   \n",
      "9549                             Kuru�_e��me, ��stanbul   29.036019   \n",
      "9550                                    Moda, ��stanbul   29.026016   \n",
      "\n",
      "       Latitude                          Cuisines  ...          Currency  \\\n",
      "0     14.565443        French, Japanese, Desserts  ...  Botswana Pula(P)   \n",
      "1     14.553708                          Japanese  ...  Botswana Pula(P)   \n",
      "2     14.581404  Seafood, Asian, Filipino, Indian  ...  Botswana Pula(P)   \n",
      "3     14.585318                   Japanese, Sushi  ...  Botswana Pula(P)   \n",
      "4     14.584450                  Japanese, Korean  ...  Botswana Pula(P)   \n",
      "...         ...                               ...  ...               ...   \n",
      "9546  41.022793                           Turkish  ...  Turkish Lira(TL)   \n",
      "9547  41.009847   World Cuisine, Patisserie, Cafe  ...  Turkish Lira(TL)   \n",
      "9548  41.055817            Italian, World Cuisine  ...  Turkish Lira(TL)   \n",
      "9549  41.057979                   Restaurant Cafe  ...  Turkish Lira(TL)   \n",
      "9550  40.984776                              Cafe  ...  Turkish Lira(TL)   \n",
      "\n",
      "     Has Table booking Has Online delivery Is delivering now  \\\n",
      "0                  Yes                  No                No   \n",
      "1                  Yes                  No                No   \n",
      "2                  Yes                  No                No   \n",
      "3                   No                  No                No   \n",
      "4                  Yes                  No                No   \n",
      "...                ...                 ...               ...   \n",
      "9546                No                  No                No   \n",
      "9547                No                  No                No   \n",
      "9548                No                  No                No   \n",
      "9549                No                  No                No   \n",
      "9550                No                  No                No   \n",
      "\n",
      "     Switch to order menu Price range  Aggregate rating  Rating color  \\\n",
      "0                      No           3               4.8    Dark Green   \n",
      "1                      No           3               4.5    Dark Green   \n",
      "2                      No           4               4.4         Green   \n",
      "3                      No           4               4.9    Dark Green   \n",
      "4                      No           4               4.8    Dark Green   \n",
      "...                   ...         ...               ...           ...   \n",
      "9546                   No           3               4.1         Green   \n",
      "9547                   No           3               4.2         Green   \n",
      "9548                   No           4               3.7        Yellow   \n",
      "9549                   No           4               4.0         Green   \n",
      "9550                   No           2               4.0         Green   \n",
      "\n",
      "     Rating text Votes  \n",
      "0      Excellent   314  \n",
      "1      Excellent   591  \n",
      "2      Very Good   270  \n",
      "3      Excellent   365  \n",
      "4      Excellent   229  \n",
      "...          ...   ...  \n",
      "9546   Very Good   788  \n",
      "9547   Very Good  1034  \n",
      "9548        Good   661  \n",
      "9549   Very Good   901  \n",
      "9550   Very Good   591  \n",
      "\n",
      "[9551 rows x 21 columns]\n"
     ]
    }
   ],
   "source": [
    "import numpy as np \n",
    "import pandas as pd\n",
    "import matplotlib.pyplot as plt\n",
    "\n",
    "data = pd.read_csv(\"/data Analytics/cognify intership/Dataset .csv\")\n",
    "print(data)"
   ]
  },
  {
   "cell_type": "code",
   "execution_count": 5,
   "id": "034855c2-5130-4114-b2f3-22b010bcac78",
   "metadata": {},
   "outputs": [
    {
     "name": "stdout",
     "output_type": "stream",
     "text": [
      "<class 'pandas.core.frame.DataFrame'>\n",
      "RangeIndex: 9551 entries, 0 to 9550\n",
      "Data columns (total 21 columns):\n",
      " #   Column                Non-Null Count  Dtype  \n",
      "---  ------                --------------  -----  \n",
      " 0   Restaurant ID         9551 non-null   int64  \n",
      " 1   Restaurant Name       9551 non-null   object \n",
      " 2   Country Code          9551 non-null   int64  \n",
      " 3   City                  9551 non-null   object \n",
      " 4   Address               9551 non-null   object \n",
      " 5   Locality              9551 non-null   object \n",
      " 6   Locality Verbose      9551 non-null   object \n",
      " 7   Longitude             9551 non-null   float64\n",
      " 8   Latitude              9551 non-null   float64\n",
      " 9   Cuisines              9542 non-null   object \n",
      " 10  Average Cost for two  9551 non-null   int64  \n",
      " 11  Currency              9551 non-null   object \n",
      " 12  Has Table booking     9551 non-null   object \n",
      " 13  Has Online delivery   9551 non-null   object \n",
      " 14  Is delivering now     9551 non-null   object \n",
      " 15  Switch to order menu  9551 non-null   object \n",
      " 16  Price range           9551 non-null   int64  \n",
      " 17  Aggregate rating      9551 non-null   float64\n",
      " 18  Rating color          9551 non-null   object \n",
      " 19  Rating text           9551 non-null   object \n",
      " 20  Votes                 9551 non-null   int64  \n",
      "dtypes: float64(3), int64(5), object(13)\n",
      "memory usage: 1.5+ MB\n",
      "None\n"
     ]
    }
   ],
   "source": [
    "# dataset information\n",
    "\n",
    "print(data.info())"
   ]
  },
  {
   "cell_type": "code",
   "execution_count": 6,
   "id": "6f74a3a1-7201-4cfa-97aa-e4b744ace6bb",
   "metadata": {},
   "outputs": [
    {
     "name": "stdout",
     "output_type": "stream",
     "text": [
      "       Restaurant ID  Country Code    Longitude     Latitude  \\\n",
      "count   9.551000e+03   9551.000000  9551.000000  9551.000000   \n",
      "mean    9.051128e+06     18.365616    64.126574    25.854381   \n",
      "std     8.791521e+06     56.750546    41.467058    11.007935   \n",
      "min     5.300000e+01      1.000000  -157.948486   -41.330428   \n",
      "25%     3.019625e+05      1.000000    77.081343    28.478713   \n",
      "50%     6.004089e+06      1.000000    77.191964    28.570469   \n",
      "75%     1.835229e+07      1.000000    77.282006    28.642758   \n",
      "max     1.850065e+07    216.000000   174.832089    55.976980   \n",
      "\n",
      "       Average Cost for two  Price range  Aggregate rating         Votes  \n",
      "count           9551.000000  9551.000000       9551.000000   9551.000000  \n",
      "mean            1199.210763     1.804837          2.666370    156.909748  \n",
      "std            16121.183073     0.905609          1.516378    430.169145  \n",
      "min                0.000000     1.000000          0.000000      0.000000  \n",
      "25%              250.000000     1.000000          2.500000      5.000000  \n",
      "50%              400.000000     2.000000          3.200000     31.000000  \n",
      "75%              700.000000     2.000000          3.700000    131.000000  \n",
      "max           800000.000000     4.000000          4.900000  10934.000000  \n"
     ]
    }
   ],
   "source": [
    "#data description\n",
    "print(data.describe())"
   ]
  },
  {
   "cell_type": "markdown",
   "id": "0fd5aa7c-15be-4557-91bd-c113e7ab736e",
   "metadata": {},
   "source": [
    "# Task 1: Top Cuisine"
   ]
  },
  {
   "cell_type": "markdown",
   "id": "bb75b143-5526-4a52-9df5-db330000e37b",
   "metadata": {},
   "source": [
    "#  Determine the top three most  common cuisines in the dataset"
   ]
  },
  {
   "cell_type": "code",
   "execution_count": 7,
   "id": "8b19c5d6-4c1d-4d1d-9993-bfc75e046876",
   "metadata": {},
   "outputs": [
    {
     "name": "stdout",
     "output_type": "stream",
     "text": [
      "Cuisines\n",
      "North Indian                                             936\n",
      "North Indian, Chinese                                    511\n",
      "Chinese                                                  354\n",
      "Fast Food                                                354\n",
      "North Indian, Mughlai                                    334\n",
      "                                                        ... \n",
      "Bengali, Fast Food                                         1\n",
      "North Indian, Rajasthani, Asian                            1\n",
      "Chinese, Thai, Malaysian, Indonesian                       1\n",
      "Bakery, Desserts, North Indian, Bengali, South Indian      1\n",
      "Italian, World Cuisine                                     1\n",
      "Name: count, Length: 1825, dtype: int64\n"
     ]
    }
   ],
   "source": [
    "# convert a data in DataFrame\n",
    "\n",
    "df = pd.DataFrame(data)\n",
    "\n",
    "# count the occurrences of each cuisine\n",
    "\n",
    "cuisins_conuts = df['Cuisines'].value_counts()\n",
    "print(cuisins_conuts)"
   ]
  },
  {
   "cell_type": "code",
   "execution_count": 8,
   "id": "385422f3-2170-4341-9a28-c2273a5effaa",
   "metadata": {},
   "outputs": [
    {
     "name": "stdout",
     "output_type": "stream",
     "text": [
      "(9551, 21)\n",
      "Index(['Restaurant ID', 'Restaurant Name', 'Country Code', 'City', 'Address',\n",
      "       'Locality', 'Locality Verbose', 'Longitude', 'Latitude', 'Cuisines',\n",
      "       'Average Cost for two', 'Currency', 'Has Table booking',\n",
      "       'Has Online delivery', 'Is delivering now', 'Switch to order menu',\n",
      "       'Price range', 'Aggregate rating', 'Rating color', 'Rating text',\n",
      "       'Votes'],\n",
      "      dtype='object')\n"
     ]
    }
   ],
   "source": [
    "print(df.shape)\n",
    "print(df.columns)"
   ]
  },
  {
   "cell_type": "code",
   "execution_count": 9,
   "id": "b2de87ca-50d2-4338-bb06-792a5b0ceb7d",
   "metadata": {},
   "outputs": [
    {
     "name": "stdout",
     "output_type": "stream",
     "text": [
      "0             French, Japanese, Desserts\n",
      "1                               Japanese\n",
      "2       Seafood, Asian, Filipino, Indian\n",
      "3                        Japanese, Sushi\n",
      "4                       Japanese, Korean\n",
      "                      ...               \n",
      "9546                             Turkish\n",
      "9547     World Cuisine, Patisserie, Cafe\n",
      "9548              Italian, World Cuisine\n",
      "9549                     Restaurant Cafe\n",
      "9550                                Cafe\n",
      "Name: Cuisines, Length: 9551, dtype: object\n"
     ]
    }
   ],
   "source": [
    "print(df['Cuisines'])"
   ]
  },
  {
   "cell_type": "code",
   "execution_count": 10,
   "id": "28f60eb0-3632-45fa-8641-a37000bfca2f",
   "metadata": {},
   "outputs": [
    {
     "name": "stdout",
     "output_type": "stream",
     "text": [
      "Cuisines\n",
      "North Indian      3960\n",
      "Chinese           2735\n",
      "Fast Food         1986\n",
      "Mughlai            995\n",
      "Italian            764\n",
      "                  ... \n",
      "Fish and Chips       1\n",
      "Malwani              1\n",
      "Cuisine Varies       1\n",
      "Soul Food            1\n",
      "B�_rek               1\n",
      "Name: count, Length: 145, dtype: int64\n",
      "Top 3 Cuisines are  Cuisines\n",
      "North Indian    3960\n",
      "Chinese         2735\n",
      "Fast Food       1986\n",
      "Name: count, dtype: int64\n"
     ]
    }
   ],
   "source": [
    "cuisines_count = df['Cuisines'].str.split(', ').explode('Cuisines').value_counts()\n",
    "print(cuisines_count)\n",
    "top_cuisines = cuisines_count.head(3)\n",
    "print(\"Top 3 Cuisines are \",top_cuisines)"
   ]
  },
  {
   "cell_type": "code",
   "execution_count": 37,
   "id": "43228577-3fa0-4b13-a822-c08279229560",
   "metadata": {},
   "outputs": [
    {
     "data": {
      "image/png": "[encoded data removed]",
      "text/plain": [
       "<Figure size 640x480 with 1 Axes>"
      ]
     },
     "metadata": {},
     "output_type": "display_data"
    }
   ],
   "source": [
    "colours = ['green','orange','blue']\n",
    "plt.bar(top_cuisines.index,top_cuisines.values,color = colours)\n",
    "plt.xlabel('Cuisins')\n",
    "plt.ylabel('Count')\n",
    "plt.title(\"Top 3 Cuisins\")\n",
    "plt.show()"
   ]
  },
  {
   "cell_type": "markdown",
   "id": "7995e857-b7b7-411a-9ef2-76113e383357",
   "metadata": {},
   "source": [
    "#  Calculate the percentage of restaurants that serve each of the top cuisines"
   ]
  },
  {
   "cell_type": "code",
   "execution_count": 11,
   "id": "da21d39d-2678-49ec-a648-10c3b860431b",
   "metadata": {},
   "outputs": [
    {
     "name": "stdout",
     "output_type": "stream",
     "text": [
      "9551\n",
      "Cuisines\n",
      "North Indian    41.461627\n",
      "Chinese         28.635745\n",
      "Fast Food       20.793634\n",
      "Mughlai         10.417757\n",
      "Italian          7.999162\n",
      "Name: count, dtype: float64\n"
     ]
    }
   ],
   "source": [
    "total_restarunt = len(df)\n",
    "print(total_restarunt)\n",
    "top_cusins = cuisines_count.head()\n",
    "percentage = top_cusins / total_restarunt * 100\n",
    "print(percentage)\n"
   ]
  },
  {
   "cell_type": "code",
   "execution_count": 36,
   "id": "1192000c-f5eb-4503-9f4e-6f7ec03b94a3",
   "metadata": {},
   "outputs": [
    {
     "data": {
      "image/png": "[encoded data removed]",
      "text/plain": [
       "<Figure size 640x480 with 1 Axes>"
      ]
     },
     "metadata": {},
     "output_type": "display_data"
    },
    {
     "data": {
      "text/plain": [
       "<Figure size 1200x600 with 0 Axes>"
      ]
     },
     "metadata": {},
     "output_type": "display_data"
    }
   ],
   "source": [
    "plt.bar(top_cusins.index , .values,color=colours)\n",
    "plt.xlabel(\"Cusines Label\")\n",
    "plt.ylabel(\"Percentage\")\n",
    "plt.title(\"Top 5 Cuisines % \")\n",
    "plt.figure(figsize=(12,6))\n",
    "plt.show()\n"
   ]
  },
  {
   "cell_type": "markdown",
   "id": "0d249eeb-9e9a-4d2d-9e2c-4c9a404cf5a2",
   "metadata": {
    "jp-MarkdownHeadingCollapsed": true
   },
   "source": [
    "# Task 2 : City Analysis"
   ]
  },
  {
   "cell_type": "markdown",
   "id": "cddedc33-00f6-42c0-83a7-a9d5af13e5fc",
   "metadata": {},
   "source": [
    "#  Identify the city with the highest number of restaurants in the dataset"
   ]
  },
  {
   "cell_type": "code",
   "execution_count": 13,
   "id": "c0259562-dc60-4f95-a3b7-e07ab72c4c6b",
   "metadata": {},
   "outputs": [],
   "source": [
    "city_restaurant_count = df.groupby('City').size()\n",
    "max_city = city_restaurant_count.idxmax()\n",
    "max_count = city_restaurant_count.max()"
   ]
  },
  {
   "cell_type": "code",
   "execution_count": 15,
   "id": "f23cb082-5eea-4370-a1e9-1e6c1e995ebd",
   "metadata": {},
   "outputs": [
    {
     "name": "stdout",
     "output_type": "stream",
     "text": [
      "City is :  New Delhi\n",
      "Highest Resturants is :  5473\n",
      "The City with the highest number of resturants is New Delhi with 5473 resturanats.\n"
     ]
    }
   ],
   "source": [
    "print(\"City is : \",max_city)\n",
    "print(\"Highest Resturants is : \",max_count)\n",
    "print(f\"The City with the highest number of resturants is {max_city} with {max_count} resturanats.\")"
   ]
  },
  {
   "cell_type": "markdown",
   "id": "dc356ab2-5400-4b9a-a8f3-9abb168c0ba0",
   "metadata": {},
   "source": [
    "# Calculate the average rating for restaurants in each city"
   ]
  },
  {
   "cell_type": "code",
   "execution_count": 16,
   "id": "8e97ebd4-1444-464c-8de0-4f2fa55ccba7",
   "metadata": {},
   "outputs": [
    {
     "name": "stdout",
     "output_type": "stream",
     "text": [
      "The Avarage  Rating of City :  City\n",
      "Abu Dhabi          4.300000\n",
      "Agra               3.965000\n",
      "Ahmedabad          4.161905\n",
      "Albany             3.555000\n",
      "Allahabad          3.395000\n",
      "                     ...   \n",
      "Weirton            3.900000\n",
      "Wellington City    4.250000\n",
      "Winchester Bay     3.200000\n",
      "Yorkton            3.300000\n",
      "��stanbul          4.292857\n",
      "Name: Aggregate rating, Length: 141, dtype: float64\n"
     ]
    }
   ],
   "source": [
    "city_avg_rating = df.groupby('City')['Aggregate rating'].mean()\n",
    "print(\"The Avarage  Rating of City : \",city_avg_rating )"
   ]
  },
  {
   "cell_type": "markdown",
   "id": "62fae726-84c3-45da-b808-7c83a176b492",
   "metadata": {},
   "source": [
    "# Determine the city with the highest average rating."
   ]
  },
  {
   "cell_type": "code",
   "execution_count": 17,
   "id": "f903616c-a3e3-441b-a48e-ffdd289cd348",
   "metadata": {},
   "outputs": [],
   "source": [
    "highest_avg_city = city_avg_rating.idxmax()\n",
    "highest_avg_rating = city_avg_rating.max()"
   ]
  },
  {
   "cell_type": "code",
   "execution_count": 20,
   "id": "e6bc627f-9d81-4455-8ec0-80e24e583fb2",
   "metadata": {},
   "outputs": [
    {
     "name": "stdout",
     "output_type": "stream",
     "text": [
      "The Highest Avarage City is :  Inner City\n",
      "The Highest Avarage Rating is :  4.9\n",
      "The Highest Avarage City is Inner City and Highest Avarage Rating is 4.9\n"
     ]
    }
   ],
   "source": [
    "print(\"The Highest Avarage City is : \",highest_avg_city)\n",
    "print(\"The Highest Avarage Rating is : \",highest_avg_rating)\n",
    "print(f\"The Highest Avarage City is {highest_avg_city} and Highest Avarage Rating is {highest_avg_rating}\")"
   ]
  },
  {
   "cell_type": "markdown",
   "id": "42a6f453-1bbf-445e-a67e-8f1d168dfba0",
   "metadata": {},
   "source": [
    "# Task 3 : Price Range Distribution"
   ]
  },
  {
   "cell_type": "markdown",
   "id": "e2b2892d-4b38-4019-a28e-d7e41637dc9b",
   "metadata": {},
   "source": [
    "# Create a histogram or bar chart to visualize the distribution of price ranges among the restaurants"
   ]
  },
  {
   "cell_type": "code",
   "execution_count": 22,
   "id": "8e2767d7-ec25-4493-b80a-4b3f17172668",
   "metadata": {},
   "outputs": [
    {
     "data": {
      "image/png": "[encoded data removed]",
      "text/plain": [
       "<Figure size 800x500 with 1 Axes>"
      ]
     },
     "metadata": {},
     "output_type": "display_data"
    }
   ],
   "source": [
    "# count the frequency of each price range \n",
    "price_counts = df['Price range'].value_counts()\n",
    "# create a bar chart \n",
    "plt.figure(figsize=(8,5))\n",
    "price_counts.plot(kind='bar',color='skyblue')\n",
    "plt.title(\"Distribution Of Price Ranges\")\n",
    "plt.xlabel('Price Ranges')\n",
    "plt.ylabel('Number of Resturant')\n",
    "plt.xticks(rotation=0)\n",
    "plt.grid(axis='y',linestyle='--',alpha=0.7)\n",
    "plt.show()"
   ]
  },
  {
   "cell_type": "code",
   "execution_count": 29,
   "id": "59fe7ce3-d955-4680-bae0-f46eb9081f2f",
   "metadata": {},
   "outputs": [
    {
     "data": {
      "image/png": "[encoded data removed]",
      "text/plain": [
       "<Figure size 640x480 with 1 Axes>"
      ]
     },
     "metadata": {},
     "output_type": "display_data"
    }
   ],
   "source": [
    "#create histogram chart\n",
    "df.hist(column='Price range')\n",
    "plt.title(\"Distribution Of Price Ranges\")\n",
    "plt.xlabel(\"Price Ranges\")\n",
    "plt.ylabel(\"Counts\")\n",
    "plt.show()"
   ]
  },
  {
   "cell_type": "markdown",
   "id": "a579c85c-6c7e-49b5-bedd-722bfeea295d",
   "metadata": {},
   "source": [
    "#  Calculate the percentage of restaurants in each price range category.\n"
   ]
  },
  {
   "cell_type": "code",
   "execution_count": 33,
   "id": "91d64742-2432-4841-8025-27c69de1f174",
   "metadata": {},
   "outputs": [
    {
     "name": "stdout",
     "output_type": "stream",
     "text": [
      "             count_x  count_y\n",
      "Price range                  \n",
      "1               4444    46.53\n",
      "2               3113    32.59\n",
      "3               1408    14.74\n",
      "4                586     6.14\n"
     ]
    }
   ],
   "source": [
    "price_count = df['Price range'].value_counts()\n",
    "total_resturant = len(df)\n",
    "price_percentage = round((price_count /  total_resturant ) * 100,2)\n",
    "percentage_m = pd.merge(price_count,price_percentage,on=\"Price range\")\n",
    "print(percentage_m)"
   ]
  },
  {
   "cell_type": "code",
   "execution_count": 56,
   "id": "d28d2f1f-a6bb-4492-ac2d-cfc360521d0f",
   "metadata": {},
   "outputs": [
    {
     "data": {
      "image/png": "[encoded data removed]",
      "text/plain": [
       "<Figure size 640x480 with 1 Axes>"
      ]
     },
     "metadata": {},
     "output_type": "display_data"
    }
   ],
   "source": [
    "plt.pie(price_percentage,labels=price_percentage.index,autopct='%1.1f%%',colors=[\"yellow\",\"lightgreen\",\"pink\",\"silver\"])\n",
    "plt.title(\"price range percentage\")\n",
    "plt.show()"
   ]
  },
  {
   "cell_type": "markdown",
   "id": "bf80f20e-5944-4c38-ba13-3b68919d64b4",
   "metadata": {},
   "source": [
    "# Task 4 : Online Delivery"
   ]
  },
  {
   "cell_type": "markdown",
   "id": "902b0ea4-7815-440a-ad1d-6feeda8176f8",
   "metadata": {},
   "source": [
    "# Determine the percentage of restaurants that offer online delivery"
   ]
  },
  {
   "cell_type": "code",
   "execution_count": 50,
   "id": "6fa2bcc0-7268-43dc-8ab3-8b6b1f4e2bfb",
   "metadata": {},
   "outputs": [
    {
     "name": "stdout",
     "output_type": "stream",
     "text": [
      "2451\n",
      "7100\n",
      "The percentage of Online Delivery :  25.66\n"
     ]
    }
   ],
   "source": [
    "online_delivery = df['Has Online delivery'].value_counts().get('Yes',0)\n",
    "print(online_delivery)\n",
    "no = df['Has Online delivery'].value_counts().get('No',0)\n",
    "print(no)\n",
    "row_counts = len(df)\n",
    "\n",
    "percentage_of_online_delivery = round((online_delivery / row_counts ) * 100,2 )\n",
    "print('The percentage of Online Delivery : ',percentage_of_online_delivery)"
   ]
  },
  {
   "cell_type": "markdown",
   "id": "1d8107f3-5bad-4aa7-aa5b-79ccf83d6015",
   "metadata": {},
   "source": [
    "# Compare the average ratings of restaurants with and without online delivery.\n"
   ]
  },
  {
   "cell_type": "code",
   "execution_count": 53,
   "id": "0dd0a728-f12e-4a5f-b443-757aac5bc6f4",
   "metadata": {},
   "outputs": [
    {
     "name": "stdout",
     "output_type": "stream",
     "text": [
      "Avarage Rating With Online Delivery :  3.25\n",
      "Avarage Rating With Online Delivery :  2.47\n"
     ]
    }
   ],
   "source": [
    "Avarage_rating_yes = round(df[df['Has Online delivery']=='Yes']['Aggregate rating'].mean(),2)\n",
    "print(\"Avarage Rating With Online Delivery : \",Avarage_rating_yes)\n",
    "Avarage_rating_no = round(df[df['Has Online delivery']=='No']['Aggregate rating'].mean(),2)\n",
    "print(\"Avarage Rating With Online Delivery : \",Avarage_rating_no)\n"
   ]
  },
  {
   "cell_type": "code",
   "execution_count": 54,
   "id": "0e04b867-0fc8-4203-847b-33892651e6e2",
   "metadata": {},
   "outputs": [
    {
     "data": {
      "image/png": "[encoded data removed]",
      "text/plain": [
       "<Figure size 640x480 with 1 Axes>"
      ]
     },
     "metadata": {},
     "output_type": "display_data"
    }
   ],
   "source": [
    "labels = ['Yes','No']\n",
    "average_rating = [Avarage_rating_yes , Avarage_rating_no]\n",
    "colors = 'green','yellow'\n",
    "plt.barh(labels,average_rating,color = colors)\n",
    "plt.xlabel(\"Online Delivery\")\n",
    "plt.ylabel(\"Average Wating\")\n",
    "plt.title(\"Comparition of Average Rating of Online Delivery\")\n",
    "plt.show()"
   ]
  },
  {
   "cell_type": "code",
   "execution_count": null,
   "id": "b588068a-1ead-4a2d-99cf-6cab9938bccd",
   "metadata": {},
   "outputs": [],
   "source": []
  }
 ],
 "metadata": {
  "kernelspec": {
   "display_name": "Python 3 (ipykernel)",
   "language": "python",
   "name": "python3"
  },
  "language_info": {
   "codemirror_mode": {
    "name": "ipython",
    "version": 3
   },
   "file_extension": ".py",
   "mimetype": "text/x-python",
   "name": "python",
   "nbconvert_exporter": "python",
   "pygments_lexer": "ipython3",
   "version": "3.12.4"
  }
 },
 "nbformat": 4,
 "nbformat_minor": 5
}
